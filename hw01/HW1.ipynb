{
 "cells": [
  {
   "cell_type": "markdown",
   "metadata": {},
   "source": [
    "### Матричные факторизации"
   ]
  },
  {
   "cell_type": "markdown",
   "metadata": {},
   "source": [
    "В данной работе вам предстоит познакомиться с практической стороной матричных разложений.\n",
    "Работа поделена на 4 задания:\n",
    "1. Вам необходимо реализовать SVD разложения используя SGD на explicit данных\n",
    "2. Вам необходимо реализовать матричное разложения используя ALS на implicit данных\n",
    "3. Вам необходимо реализовать матричное разложения используя BPR(pair-wise loss) на implicit данных\n",
    "4. Вам необходимо реализовать матричное разложения используя WARP(list-wise loss) на implicit данных\n",
    "\n",
    "Мягкий дедлайн 28 Сентября (пишутся замечания, выставляется оценка, есть возможность исправить до жесткого дедлайна)\n",
    "\n",
    "Жесткий дедлайн 5 Октября (Итоговая проверка)"
   ]
  },
  {
   "cell_type": "code",
   "execution_count": 36,
   "metadata": {},
   "outputs": [],
   "source": [
    "import implicit\n",
    "import pandas as pd\n",
    "import numpy as np\n",
    "import scipy.sparse as sp"
   ]
  },
  {
   "cell_type": "markdown",
   "metadata": {},
   "source": [
    "В данной работе мы будем работать с explicit датасетом movieLens, в котором представленны пары user_id movie_id и rating выставленный пользователем фильму\n",
    "\n",
    "Скачать датасет можно по ссылке https://grouplens.org/datasets/movielens/1m/"
   ]
  },
  {
   "cell_type": "code",
   "execution_count": 37,
   "metadata": {},
   "outputs": [],
   "source": [
    "ratings = pd.read_csv(\n",
    "  'ml-1m/ratings.dat', delimiter='::', header=None, \n",
    "  names=['user_id', 'movie_id', 'rating', 'timestamp'], \n",
    "  usecols=['user_id', 'movie_id', 'rating'], engine='python')"
   ]
  },
  {
   "cell_type": "code",
   "execution_count": 38,
   "metadata": {},
   "outputs": [],
   "source": [
    "movie_info = pd.read_csv(\n",
    "  'ml-1m/movies.dat', delimiter='::', header=None, \n",
    "  names=['movie_id', 'name', 'category'], engine='python')"
   ]
  },
  {
   "cell_type": "markdown",
   "metadata": {},
   "source": [
    "Explicit данные"
   ]
  },
  {
   "cell_type": "code",
   "execution_count": 39,
   "metadata": {},
   "outputs": [
    {
     "data": {
      "text/html": [
       "<div>\n",
       "<style scoped>\n",
       "    .dataframe tbody tr th:only-of-type {\n",
       "        vertical-align: middle;\n",
       "    }\n",
       "\n",
       "    .dataframe tbody tr th {\n",
       "        vertical-align: top;\n",
       "    }\n",
       "\n",
       "    .dataframe thead th {\n",
       "        text-align: right;\n",
       "    }\n",
       "</style>\n",
       "<table border=\"1\" class=\"dataframe\">\n",
       "  <thead>\n",
       "    <tr style=\"text-align: right;\">\n",
       "      <th></th>\n",
       "      <th>user_id</th>\n",
       "      <th>movie_id</th>\n",
       "      <th>rating</th>\n",
       "    </tr>\n",
       "  </thead>\n",
       "  <tbody>\n",
       "    <tr>\n",
       "      <th>0</th>\n",
       "      <td>1</td>\n",
       "      <td>1193</td>\n",
       "      <td>5</td>\n",
       "    </tr>\n",
       "    <tr>\n",
       "      <th>1</th>\n",
       "      <td>1</td>\n",
       "      <td>661</td>\n",
       "      <td>3</td>\n",
       "    </tr>\n",
       "    <tr>\n",
       "      <th>2</th>\n",
       "      <td>1</td>\n",
       "      <td>914</td>\n",
       "      <td>3</td>\n",
       "    </tr>\n",
       "    <tr>\n",
       "      <th>3</th>\n",
       "      <td>1</td>\n",
       "      <td>3408</td>\n",
       "      <td>4</td>\n",
       "    </tr>\n",
       "    <tr>\n",
       "      <th>4</th>\n",
       "      <td>1</td>\n",
       "      <td>2355</td>\n",
       "      <td>5</td>\n",
       "    </tr>\n",
       "    <tr>\n",
       "      <th>5</th>\n",
       "      <td>1</td>\n",
       "      <td>1197</td>\n",
       "      <td>3</td>\n",
       "    </tr>\n",
       "    <tr>\n",
       "      <th>6</th>\n",
       "      <td>1</td>\n",
       "      <td>1287</td>\n",
       "      <td>5</td>\n",
       "    </tr>\n",
       "    <tr>\n",
       "      <th>7</th>\n",
       "      <td>1</td>\n",
       "      <td>2804</td>\n",
       "      <td>5</td>\n",
       "    </tr>\n",
       "    <tr>\n",
       "      <th>8</th>\n",
       "      <td>1</td>\n",
       "      <td>594</td>\n",
       "      <td>4</td>\n",
       "    </tr>\n",
       "    <tr>\n",
       "      <th>9</th>\n",
       "      <td>1</td>\n",
       "      <td>919</td>\n",
       "      <td>4</td>\n",
       "    </tr>\n",
       "  </tbody>\n",
       "</table>\n",
       "</div>"
      ],
      "text/plain": [
       "   user_id  movie_id  rating\n",
       "0        1      1193       5\n",
       "1        1       661       3\n",
       "2        1       914       3\n",
       "3        1      3408       4\n",
       "4        1      2355       5\n",
       "5        1      1197       3\n",
       "6        1      1287       5\n",
       "7        1      2804       5\n",
       "8        1       594       4\n",
       "9        1       919       4"
      ]
     },
     "execution_count": 39,
     "metadata": {},
     "output_type": "execute_result"
    }
   ],
   "source": [
    "ratings.head(10)"
   ]
  },
  {
   "cell_type": "markdown",
   "metadata": {},
   "source": [
    "Для того, чтобы преобразовать текущий датасет в Implicit, давайте считать что позитивная оценка это оценка >=4"
   ]
  },
  {
   "cell_type": "code",
   "execution_count": 40,
   "metadata": {},
   "outputs": [],
   "source": [
    "implicit_ratings = ratings.loc[(ratings['rating'] >= 4)]"
   ]
  },
  {
   "cell_type": "code",
   "execution_count": 41,
   "metadata": {},
   "outputs": [
    {
     "data": {
      "text/html": [
       "<div>\n",
       "<style scoped>\n",
       "    .dataframe tbody tr th:only-of-type {\n",
       "        vertical-align: middle;\n",
       "    }\n",
       "\n",
       "    .dataframe tbody tr th {\n",
       "        vertical-align: top;\n",
       "    }\n",
       "\n",
       "    .dataframe thead th {\n",
       "        text-align: right;\n",
       "    }\n",
       "</style>\n",
       "<table border=\"1\" class=\"dataframe\">\n",
       "  <thead>\n",
       "    <tr style=\"text-align: right;\">\n",
       "      <th></th>\n",
       "      <th>user_id</th>\n",
       "      <th>movie_id</th>\n",
       "      <th>rating</th>\n",
       "    </tr>\n",
       "  </thead>\n",
       "  <tbody>\n",
       "    <tr>\n",
       "      <th>0</th>\n",
       "      <td>1</td>\n",
       "      <td>1193</td>\n",
       "      <td>5</td>\n",
       "    </tr>\n",
       "    <tr>\n",
       "      <th>3</th>\n",
       "      <td>1</td>\n",
       "      <td>3408</td>\n",
       "      <td>4</td>\n",
       "    </tr>\n",
       "    <tr>\n",
       "      <th>4</th>\n",
       "      <td>1</td>\n",
       "      <td>2355</td>\n",
       "      <td>5</td>\n",
       "    </tr>\n",
       "    <tr>\n",
       "      <th>6</th>\n",
       "      <td>1</td>\n",
       "      <td>1287</td>\n",
       "      <td>5</td>\n",
       "    </tr>\n",
       "    <tr>\n",
       "      <th>7</th>\n",
       "      <td>1</td>\n",
       "      <td>2804</td>\n",
       "      <td>5</td>\n",
       "    </tr>\n",
       "    <tr>\n",
       "      <th>8</th>\n",
       "      <td>1</td>\n",
       "      <td>594</td>\n",
       "      <td>4</td>\n",
       "    </tr>\n",
       "    <tr>\n",
       "      <th>9</th>\n",
       "      <td>1</td>\n",
       "      <td>919</td>\n",
       "      <td>4</td>\n",
       "    </tr>\n",
       "    <tr>\n",
       "      <th>10</th>\n",
       "      <td>1</td>\n",
       "      <td>595</td>\n",
       "      <td>5</td>\n",
       "    </tr>\n",
       "    <tr>\n",
       "      <th>11</th>\n",
       "      <td>1</td>\n",
       "      <td>938</td>\n",
       "      <td>4</td>\n",
       "    </tr>\n",
       "    <tr>\n",
       "      <th>12</th>\n",
       "      <td>1</td>\n",
       "      <td>2398</td>\n",
       "      <td>4</td>\n",
       "    </tr>\n",
       "  </tbody>\n",
       "</table>\n",
       "</div>"
      ],
      "text/plain": [
       "    user_id  movie_id  rating\n",
       "0         1      1193       5\n",
       "3         1      3408       4\n",
       "4         1      2355       5\n",
       "6         1      1287       5\n",
       "7         1      2804       5\n",
       "8         1       594       4\n",
       "9         1       919       4\n",
       "10        1       595       5\n",
       "11        1       938       4\n",
       "12        1      2398       4"
      ]
     },
     "execution_count": 41,
     "metadata": {},
     "output_type": "execute_result"
    }
   ],
   "source": [
    "implicit_ratings.head(10)"
   ]
  },
  {
   "cell_type": "markdown",
   "metadata": {},
   "source": [
    "Удобнее работать с sparse матричками, давайте преобразуем DataFrame в CSR матрицы"
   ]
  },
  {
   "cell_type": "code",
   "execution_count": 42,
   "metadata": {},
   "outputs": [],
   "source": [
    "users = implicit_ratings[\"user_id\"]\n",
    "movies = implicit_ratings[\"movie_id\"]\n",
    "user_item = sp.coo_matrix((np.ones_like(users), (users, movies)))\n",
    "user_item_t_csr = user_item.T.tocsr()\n",
    "user_item_csr = user_item.tocsr()"
   ]
  },
  {
   "cell_type": "markdown",
   "metadata": {},
   "source": [
    "В качестве примера воспользуемся ALS разложением из библиотеки implicit\n",
    "\n",
    "Зададим размерность латентного пространства равным 64, это же определяет размер user/item эмбедингов"
   ]
  },
  {
   "cell_type": "code",
   "execution_count": 43,
   "metadata": {},
   "outputs": [],
   "source": [
    "FACTOR_RANK = 64\n",
    "implicit_model = (\n",
    "  implicit.als.AlternatingLeastSquares(factors=FACTOR_RANK, iterations=100, calculate_training_loss=True))"
   ]
  },
  {
   "cell_type": "markdown",
   "metadata": {},
   "source": [
    "В качестве loss здесь всеми любимый RMSE"
   ]
  },
  {
   "cell_type": "code",
   "execution_count": 44,
   "metadata": {},
   "outputs": [
    {
     "data": {
      "application/vnd.jupyter.widget-view+json": {
       "model_id": "6427a009449041d19b8a03f7d41f4cee",
       "version_major": 2,
       "version_minor": 0
      },
      "text/plain": [
       "HBox(children=(FloatProgress(value=0.0), HTML(value='')))"
      ]
     },
     "metadata": {},
     "output_type": "display_data"
    },
    {
     "name": "stdout",
     "output_type": "stream",
     "text": [
      "\n"
     ]
    }
   ],
   "source": [
    "implicit_model.fit(user_item_t_csr)"
   ]
  },
  {
   "cell_type": "markdown",
   "metadata": {},
   "source": [
    "Построим похожие фильмы по 1 movie_id = Истории игрушек"
   ]
  },
  {
   "cell_type": "code",
   "execution_count": 45,
   "metadata": {},
   "outputs": [
    {
     "data": {
      "text/html": [
       "<div>\n",
       "<style scoped>\n",
       "    .dataframe tbody tr th:only-of-type {\n",
       "        vertical-align: middle;\n",
       "    }\n",
       "\n",
       "    .dataframe tbody tr th {\n",
       "        vertical-align: top;\n",
       "    }\n",
       "\n",
       "    .dataframe thead th {\n",
       "        text-align: right;\n",
       "    }\n",
       "</style>\n",
       "<table border=\"1\" class=\"dataframe\">\n",
       "  <thead>\n",
       "    <tr style=\"text-align: right;\">\n",
       "      <th></th>\n",
       "      <th>movie_id</th>\n",
       "      <th>name</th>\n",
       "      <th>category</th>\n",
       "    </tr>\n",
       "  </thead>\n",
       "  <tbody>\n",
       "    <tr>\n",
       "      <th>0</th>\n",
       "      <td>1</td>\n",
       "      <td>Toy Story (1995)</td>\n",
       "      <td>Animation|Children's|Comedy</td>\n",
       "    </tr>\n",
       "    <tr>\n",
       "      <th>1</th>\n",
       "      <td>2</td>\n",
       "      <td>Jumanji (1995)</td>\n",
       "      <td>Adventure|Children's|Fantasy</td>\n",
       "    </tr>\n",
       "    <tr>\n",
       "      <th>2</th>\n",
       "      <td>3</td>\n",
       "      <td>Grumpier Old Men (1995)</td>\n",
       "      <td>Comedy|Romance</td>\n",
       "    </tr>\n",
       "    <tr>\n",
       "      <th>3</th>\n",
       "      <td>4</td>\n",
       "      <td>Waiting to Exhale (1995)</td>\n",
       "      <td>Comedy|Drama</td>\n",
       "    </tr>\n",
       "    <tr>\n",
       "      <th>4</th>\n",
       "      <td>5</td>\n",
       "      <td>Father of the Bride Part II (1995)</td>\n",
       "      <td>Comedy</td>\n",
       "    </tr>\n",
       "  </tbody>\n",
       "</table>\n",
       "</div>"
      ],
      "text/plain": [
       "   movie_id                                name                      category\n",
       "0         1                    Toy Story (1995)   Animation|Children's|Comedy\n",
       "1         2                      Jumanji (1995)  Adventure|Children's|Fantasy\n",
       "2         3             Grumpier Old Men (1995)                Comedy|Romance\n",
       "3         4            Waiting to Exhale (1995)                  Comedy|Drama\n",
       "4         5  Father of the Bride Part II (1995)                        Comedy"
      ]
     },
     "execution_count": 45,
     "metadata": {},
     "output_type": "execute_result"
    }
   ],
   "source": [
    "movie_info.head(5)"
   ]
  },
  {
   "cell_type": "code",
   "execution_count": 46,
   "metadata": {},
   "outputs": [],
   "source": [
    "get_similars = (\n",
    "  lambda item_id, model : [\n",
    "    movie_info[movie_info[\"movie_id\"] == x[0]][\"name\"].to_string() \n",
    "    for x in model.similar_items(item_id)])"
   ]
  },
  {
   "cell_type": "markdown",
   "metadata": {},
   "source": [
    "Как мы видим, симилары действительно оказались симиларами.\n",
    "\n",
    "Качество симиларов часто является хорошим способом проверить качество алгоритмов.\n",
    "\n",
    "P.S. Если хочется поглубже разобраться в том как разные алгоритмы формируют разные латентные пространства, рекомендую загружать полученные вектора в tensorBoard и смотреть на сформированное пространство"
   ]
  },
  {
   "cell_type": "code",
   "execution_count": 47,
   "metadata": {},
   "outputs": [
    {
     "data": {
      "text/plain": [
       "['0    Toy Story (1995)',\n",
       " '3045    Toy Story 2 (1999)',\n",
       " \"2286    Bug's Life, A (1998)\",\n",
       " '33    Babe (1995)',\n",
       " '584    Aladdin (1992)',\n",
       " '2315    Babe: Pig in the City (1998)',\n",
       " '1838    Mulan (1998)',\n",
       " '360    Lion King, The (1994)',\n",
       " '2618    Tarzan (1999)',\n",
       " '1526    Hercules (1997)']"
      ]
     },
     "execution_count": 47,
     "metadata": {},
     "output_type": "execute_result"
    }
   ],
   "source": [
    "get_similars(1, implicit_model)"
   ]
  },
  {
   "cell_type": "markdown",
   "metadata": {},
   "source": [
    "Давайте теперь построим рекомендации для юзеров\n",
    "\n",
    "Как мы видим юзеру нравится фантастика, значит и в рекомендациях ожидаем увидеть фантастику"
   ]
  },
  {
   "cell_type": "code",
   "execution_count": 48,
   "metadata": {},
   "outputs": [],
   "source": [
    "get_user_history = (\n",
    "  lambda user_id, implicit_ratings : [\n",
    "    movie_info[movie_info[\"movie_id\"] == x][\"name\"].to_string() \n",
    "    for x in implicit_ratings[implicit_ratings[\"user_id\"] == user_id][\"movie_id\"]])"
   ]
  },
  {
   "cell_type": "code",
   "execution_count": 49,
   "metadata": {},
   "outputs": [
    {
     "data": {
      "text/plain": [
       "['3399    Hustler, The (1961)',\n",
       " '2882    Fistful of Dollars, A (1964)',\n",
       " '1196    Alien (1979)',\n",
       " '1023    Die Hard (1988)',\n",
       " '257    Star Wars: Episode IV - A New Hope (1977)',\n",
       " '1959    Saving Private Ryan (1998)',\n",
       " '476    Jurassic Park (1993)',\n",
       " '1180    Raiders of the Lost Ark (1981)',\n",
       " '1885    Rocky (1976)',\n",
       " '1081    E.T. the Extra-Terrestrial (1982)',\n",
       " '3349    Thelma & Louise (1991)',\n",
       " '3633    Mad Max (1979)',\n",
       " '2297    King Kong (1933)',\n",
       " '1366    Jaws (1975)',\n",
       " '1183    Good, The Bad and The Ugly, The (1966)',\n",
       " '2623    Run Lola Run (Lola rennt) (1998)',\n",
       " '2878    Goldfinger (1964)',\n",
       " '1220    Terminator, The (1984)']"
      ]
     },
     "execution_count": 49,
     "metadata": {},
     "output_type": "execute_result"
    }
   ],
   "source": [
    "get_user_history(4, implicit_ratings)"
   ]
  },
  {
   "cell_type": "markdown",
   "metadata": {},
   "source": [
    "Получилось! \n",
    "\n",
    "Мы действительно порекомендовали пользователю фантастику и боевики, более того встречаются продолжения тех фильмов, которые он высоко оценил"
   ]
  },
  {
   "cell_type": "code",
   "execution_count": 50,
   "metadata": {},
   "outputs": [],
   "source": [
    "get_recommendations = (\n",
    "  lambda user_id, model : [\n",
    "    movie_info[movie_info[\"movie_id\"] == x[0]][\"name\"].to_string() \n",
    "    for x in model.recommend(user_id, user_item_csr)])"
   ]
  },
  {
   "cell_type": "code",
   "execution_count": 51,
   "metadata": {},
   "outputs": [
    {
     "data": {
      "text/plain": [
       "['585    Terminator 2: Judgment Day (1991)',\n",
       " '1271    Indiana Jones and the Last Crusade (1989)',\n",
       " '2502    Matrix, The (1999)',\n",
       " '1284    Butch Cassidy and the Sundance Kid (1969)',\n",
       " '1182    Aliens (1986)',\n",
       " '1178    Star Wars: Episode V - The Empire Strikes Back...',\n",
       " '3402    Close Encounters of the Third Kind (1977)',\n",
       " '1179    Princess Bride, The (1987)',\n",
       " '2460    Planet of the Apes (1968)',\n",
       " '847    Godfather, The (1972)']"
      ]
     },
     "execution_count": 51,
     "metadata": {},
     "output_type": "execute_result"
    }
   ],
   "source": [
    "get_recommendations(4, implicit_model)"
   ]
  },
  {
   "cell_type": "markdown",
   "metadata": {},
   "source": [
    "Теперь ваша очередь реализовать самые популярные алгоритмы матричных разложений\n",
    "\n",
    "Что будет оцениваться:\n",
    "1. Корректность алгоритма\n",
    "2. Качество получившихся симиларов\n",
    "3. Качество итоговых рекомендаций для юзера"
   ]
  },
  {
   "cell_type": "code",
   "execution_count": 52,
   "metadata": {},
   "outputs": [],
   "source": [
    "def test_model(model):\n",
    "  movie_id = 1\n",
    "  print(f'Similar to {movie_info[movie_info[\"movie_id\"] == movie_id][\"name\"].to_string()} are:')\n",
    "  movie_similars = get_similars(movie_id, model)\n",
    "  print('\\n'.join(movie_similars))\n",
    "  user_id = 4\n",
    "  print(f'Recommended movies for the user {user_id} are:')\n",
    "  recommended_movies = get_recommendations(user_id, model)\n",
    "  print('\\n'.join(recommended_movies))"
   ]
  },
  {
   "cell_type": "code",
   "execution_count": 53,
   "metadata": {},
   "outputs": [
    {
     "name": "stdout",
     "output_type": "stream",
     "text": [
      "Similar to 0    Toy Story (1995) are:\n",
      "0    Toy Story (1995)\n",
      "3045    Toy Story 2 (1999)\n",
      "2286    Bug's Life, A (1998)\n",
      "33    Babe (1995)\n",
      "584    Aladdin (1992)\n",
      "2315    Babe: Pig in the City (1998)\n",
      "1838    Mulan (1998)\n",
      "360    Lion King, The (1994)\n",
      "2618    Tarzan (1999)\n",
      "1526    Hercules (1997)\n",
      "Recommended movies for the user 4 are:\n",
      "585    Terminator 2: Judgment Day (1991)\n",
      "1271    Indiana Jones and the Last Crusade (1989)\n",
      "2502    Matrix, The (1999)\n",
      "1284    Butch Cassidy and the Sundance Kid (1969)\n",
      "1182    Aliens (1986)\n",
      "1178    Star Wars: Episode V - The Empire Strikes Back...\n",
      "3402    Close Encounters of the Third Kind (1977)\n",
      "1179    Princess Bride, The (1987)\n",
      "2460    Planet of the Apes (1968)\n",
      "847    Godfather, The (1972)\n"
     ]
    }
   ],
   "source": [
    "test_model(implicit_model)"
   ]
  },
  {
   "cell_type": "markdown",
   "metadata": {},
   "source": [
    "### Задание 1. Не использую готовые решения, реализовать SVD разложение используя SGD на explicit данных"
   ]
  },
  {
   "cell_type": "code",
   "execution_count": 54,
   "metadata": {},
   "outputs": [],
   "source": [
    "RANDOM_SEED = 17\n",
    "EPOCHS = 10"
   ]
  },
  {
   "cell_type": "code",
   "execution_count": 55,
   "metadata": {},
   "outputs": [],
   "source": [
    "from sklearn.neighbors import KDTree \n",
    "\n",
    "class RecommenderEngine:\n",
    "  def __init__(self):\n",
    "    self.movies = None\n",
    "    self.movie_embeddings = None\n",
    "    self.user_embeddings = None\n",
    "    self.user_biases = None\n",
    "    self.movie_biases = None\n",
    "    self.gen_bias = None\n",
    "    self.items_kdtree = None\n",
    "    \n",
    "  def fit(self, *args, **kwargs):\n",
    "    assert self.movies is not None\n",
    "    assert self.movie_embeddings is not None\n",
    "    assert self.user_embeddings is not None\n",
    "    self.items_kdtree = KDTree(self.movie_embeddings)\n",
    "  \n",
    "  def similar_items(self, movie_id, n=10):\n",
    "    distances, nearest_items = self.items_kdtree.query([self.movie_embeddings[movie_id]], n)\n",
    "    similarities = -distances\n",
    "    return list(zip(nearest_items.flatten(), similarities.flatten()))\n",
    "  \n",
    "  def recommend(self, user_id, user_item_csr, n=10):\n",
    "    predicted_ratings = []\n",
    "    liked_set = [movie_id for movie_id in user_item_csr[user_id].indices]\n",
    "    for movie_id in self.movies:\n",
    "      if movie_id in liked_set:\n",
    "        continue\n",
    "      rating = np.dot(self.user_embeddings[user_id], self.movie_embeddings[movie_id])\n",
    "      if self.user_biases is not None:\n",
    "        rating += self.user_biases[user_id]\n",
    "      if self.movie_biases is not None:\n",
    "        rating += self.movie_biases[movie_id]\n",
    "      if self.gen_bias is not None:\n",
    "        rating += self.gen_bias\n",
    "      predicted_ratings.append((movie_id, rating))\n",
    "    predicted_ratings.sort(key=lambda movie_rate: movie_rate[1], reverse=True)\n",
    "    return predicted_ratings[:n]"
   ]
  },
  {
   "cell_type": "code",
   "execution_count": 61,
   "metadata": {},
   "outputs": [],
   "source": [
    "from collections import defaultdict\n",
    "\n",
    "import tqdm\n",
    "\n",
    "class SVDThroughSGD(RecommenderEngine):\n",
    "  def __init__(self, rank=64, lr=1e-3, max_epochs=100, eps=1e-5, lambd=1e-5):\n",
    "    super().__init__()\n",
    "    self.rank = rank\n",
    "    self.lr = lr\n",
    "    self.max_epochs = max_epochs\n",
    "    self.eps = eps\n",
    "    self.lambd = lambd\n",
    "  \n",
    "  def fit(self, ratings, seed=RANDOM_SEED):\n",
    "    np.random.seed(seed)\n",
    "    users = ratings['user_id'].unique() \n",
    "    movies = ratings['movie_id'].unique()\n",
    "    print('Users:', len(users))\n",
    "    print('Movies:', len(movies))\n",
    "    print('Ratings:', len(ratings), flush=True)\n",
    "    user_ids_size = np.max(users) + 1\n",
    "    movie_ids_size = np.max(movies) + 1\n",
    "    init_limit = 1 / np.sqrt(self.rank)\n",
    "    user_embeddings = np.random.uniform(0, init_limit, (user_ids_size, self.rank))\n",
    "    movie_embeddings = np.random.uniform(0, init_limit, (movie_ids_size, self.rank))\n",
    "    user_biases = np.zeros(user_ids_size)\n",
    "    movie_biases = np.zeros(movie_ids_size)\n",
    "    gen_bias = np.mean(ratings['rating'])\n",
    "    ratings_index = np.array(ratings.index)\n",
    "    for epoch in range(self.max_epochs):\n",
    "      # Shuffle indexes to simulate uniform sampling for SGD.\n",
    "      np.random.shuffle(ratings_index)\n",
    "      mse_sum = 0\n",
    "      mse_count = 0\n",
    "      for rating_index in tqdm.tqdm(ratings_index):\n",
    "        rating_row = ratings.iloc[rating_index]\n",
    "        user_id = rating_row['user_id']\n",
    "        movie_id = rating_row['movie_id']\n",
    "        rating = rating_row['rating']\n",
    "        user_embedding = user_embeddings[user_id]\n",
    "        movie_embedding = movie_embeddings[movie_id]\n",
    "        user_bias = user_biases[user_id]\n",
    "        movie_bias = movie_biases[movie_id]\n",
    "        error = (np.dot(user_embedding, movie_embedding) + user_bias + movie_bias + gen_bias) - rating\n",
    "        user_embedding_delta = self.lr * (error * movie_embedding + self.lambd * user_embedding)\n",
    "        movie_embedding_delta = self.lr * (error * user_embedding + self.lambd * movie_embedding)\n",
    "        user_bias_delta = self.lr * (error + self.lambd * user_bias)\n",
    "        movie_bias_delta = self.lr * (error + self.lambd * movie_bias)\n",
    "        user_embeddings[user_id] -= user_embedding_delta\n",
    "        movie_embeddings[movie_id] -= movie_embedding_delta\n",
    "        user_biases[user_id] -= user_bias_delta\n",
    "        movie_biases[movie_id] -= movie_bias_delta\n",
    "        mse_sum += error ** 2\n",
    "        mse_count += 1\n",
    "      mse = mse_sum / mse_count\n",
    "      print(f'Epoch: {epoch + 1}, train MSE={mse}', flush=True)\n",
    "      if mse < self.eps:\n",
    "        break\n",
    "    self.movies = movies\n",
    "    self.user_embeddings = user_embeddings\n",
    "    self.movie_embeddings = movie_embeddings\n",
    "    self.movie_biases = movie_biases\n",
    "    self.user_biases = user_biases\n",
    "    self.gen_bias = gen_bias\n",
    "    super().fit()"
   ]
  },
  {
   "cell_type": "code",
   "execution_count": 62,
   "metadata": {},
   "outputs": [
    {
     "name": "stdout",
     "output_type": "stream",
     "text": [
      "Users: 6040\n",
      "Movies: 3706\n",
      "Ratings: 1000209\n"
     ]
    },
    {
     "name": "stderr",
     "output_type": "stream",
     "text": [
      "100%|██████████| 1000209/1000209 [03:03<00:00, 5459.22it/s]"
     ]
    },
    {
     "name": "stdout",
     "output_type": "stream",
     "text": [
      "Epoch: 1, train MSE=0.9070532182019198\n"
     ]
    },
    {
     "name": "stderr",
     "output_type": "stream",
     "text": [
      "\n",
      "100%|██████████| 1000209/1000209 [03:02<00:00, 5485.31it/s]"
     ]
    },
    {
     "name": "stdout",
     "output_type": "stream",
     "text": [
      "Epoch: 2, train MSE=0.8260301885808143\n"
     ]
    },
    {
     "name": "stderr",
     "output_type": "stream",
     "text": [
      "\n",
      "100%|██████████| 1000209/1000209 [03:02<00:00, 5481.32it/s]"
     ]
    },
    {
     "name": "stdout",
     "output_type": "stream",
     "text": [
      "Epoch: 3, train MSE=0.8063661627217299\n"
     ]
    },
    {
     "name": "stderr",
     "output_type": "stream",
     "text": [
      "\n",
      "100%|██████████| 1000209/1000209 [03:00<00:00, 5534.59it/s]"
     ]
    },
    {
     "name": "stdout",
     "output_type": "stream",
     "text": [
      "Epoch: 4, train MSE=0.7855569607478481\n"
     ]
    },
    {
     "name": "stderr",
     "output_type": "stream",
     "text": [
      "\n",
      "100%|██████████| 1000209/1000209 [03:03<00:00, 5440.53it/s]"
     ]
    },
    {
     "name": "stdout",
     "output_type": "stream",
     "text": [
      "Epoch: 5, train MSE=0.7593830454952499\n"
     ]
    },
    {
     "name": "stderr",
     "output_type": "stream",
     "text": [
      "\n",
      "100%|██████████| 1000209/1000209 [03:01<00:00, 5502.03it/s]"
     ]
    },
    {
     "name": "stdout",
     "output_type": "stream",
     "text": [
      "Epoch: 6, train MSE=0.7278272380264692\n"
     ]
    },
    {
     "name": "stderr",
     "output_type": "stream",
     "text": [
      "\n",
      "100%|██████████| 1000209/1000209 [03:01<00:00, 5506.91it/s]"
     ]
    },
    {
     "name": "stdout",
     "output_type": "stream",
     "text": [
      "Epoch: 7, train MSE=0.6935764914451396\n"
     ]
    },
    {
     "name": "stderr",
     "output_type": "stream",
     "text": [
      "\n",
      "100%|██████████| 1000209/1000209 [03:01<00:00, 5515.26it/s]"
     ]
    },
    {
     "name": "stdout",
     "output_type": "stream",
     "text": [
      "Epoch: 8, train MSE=0.6578326241122451\n"
     ]
    },
    {
     "name": "stderr",
     "output_type": "stream",
     "text": [
      "\n",
      "100%|██████████| 1000209/1000209 [03:01<00:00, 5520.75it/s]"
     ]
    },
    {
     "name": "stdout",
     "output_type": "stream",
     "text": [
      "Epoch: 9, train MSE=0.6217505845350675\n"
     ]
    },
    {
     "name": "stderr",
     "output_type": "stream",
     "text": [
      "\n",
      "100%|██████████| 1000209/1000209 [03:01<00:00, 5521.41it/s]"
     ]
    },
    {
     "name": "stdout",
     "output_type": "stream",
     "text": [
      "Epoch: 10, train MSE=0.5863738460966565\n"
     ]
    },
    {
     "name": "stderr",
     "output_type": "stream",
     "text": [
      "\n"
     ]
    }
   ],
   "source": [
    "svd_model = SVDThroughSGD(rank=FACTOR_RANK, lr=1e-2, lambd=1e-2, eps=1e-3, max_epochs=EPOCHS)\n",
    "svd_model.fit(ratings)"
   ]
  },
  {
   "cell_type": "code",
   "execution_count": 63,
   "metadata": {},
   "outputs": [
    {
     "name": "stdout",
     "output_type": "stream",
     "text": [
      "Similar to 0    Toy Story (1995) are:\n",
      "0    Toy Story (1995)\n",
      "3045    Toy Story 2 (1999)\n",
      "2286    Bug's Life, A (1998)\n",
      "584    Aladdin (1992)\n",
      "2618    Tarzan (1999)\n",
      "2021    Rescuers, The (1977)\n",
      "1459    Cats Don't Dance (1997)\n",
      "1551    Air Bud (1997)\n",
      "565    Little Big League (1994)\n",
      "1988    Incredible Journey, The (1963)\n",
      "Recommended movies for the user 4 are:\n",
      "1189    To Kill a Mockingbird (1962)\n",
      "2836    Sanjuro (1962)\n",
      "847    Godfather, The (1972)\n",
      "900    Casablanca (1942)\n",
      "3020    Bicycle Thief, The (Ladri di biciclette) (1948)\n",
      "1950    Seven Samurai (The Magnificent Seven) (Shichin...\n",
      "1186    Lawrence of Arabia (1962)\n",
      "3269    For All Mankind (1989)\n",
      "892    Rear Window (1954)\n",
      "3238    City Lights (1931)\n"
     ]
    }
   ],
   "source": [
    "test_model(svd_model)"
   ]
  },
  {
   "cell_type": "markdown",
   "metadata": {},
   "source": [
    "### Задание 2. Не использую готовые решения, реализовать матричное разложение используя ALS на implicit данных"
   ]
  },
  {
   "cell_type": "code",
   "execution_count": 64,
   "metadata": {},
   "outputs": [],
   "source": [
    "class ALS(RecommenderEngine):\n",
    "  def __init__(self, rank=64, max_iterations=100, eps=1e-5, lambd=1e-5, confidence=10):\n",
    "    super().__init__()\n",
    "    self.rank = rank\n",
    "    self.max_iterations = max_iterations\n",
    "    self.eps = eps\n",
    "    self.lambd = lambd\n",
    "    self.confidence = confidence\n",
    "\n",
    "  def fit(self, user_item_csr, seed=RANDOM_SEED):\n",
    "    np.random.seed(seed)\n",
    "    cx = sp.coo_matrix(user_item_csr)\n",
    "    users = np.unique(cx.row)\n",
    "    movies = np.unique(cx.col)\n",
    "    print('Users:', len(users))\n",
    "    print('Movies:', len(movies))\n",
    "    print('Ratings:', user_item_csr.getnnz(), flush=True)\n",
    "    \n",
    "    init_limit = 1 / np.sqrt(self.rank)\n",
    "    user_ids_size = np.max(users) + 1\n",
    "    movie_ids_size = np.max(movies) + 1\n",
    "    init_limit = 1 / np.sqrt(self.rank)\n",
    "    user_embeddings = np.random.uniform(0, init_limit, (user_ids_size, self.rank))\n",
    "    movie_embeddings = np.random.uniform(0, init_limit, (movie_ids_size, self.rank))\n",
    "\n",
    "    for iteration in range(self.max_iterations):\n",
    "      if iteration % 2 == 0:\n",
    "        # Fix movie embeddings, optimize user embeddings.\n",
    "        movie_dot_movie = (movie_embeddings * movie_embeddings).sum(axis=1, keepdims=True)\n",
    "        for user_id in tqdm.tqdm(users):\n",
    "          x_i = np.array(user_item_csr[user_id, :].todense()).reshape((-1, 1))\n",
    "          c = 1 + self.confidence * x_i\n",
    "          left_side = (c * movie_dot_movie + self.lambd).sum(axis=0)\n",
    "          right_side = (c * x_i * movie_embeddings).sum(axis=0)\n",
    "          user_embeddings[user_id] = right_side / left_side\n",
    "      else:\n",
    "        # Fix user embeddings, optimize movie embeddings.\n",
    "        user_dot_user = (user_embeddings * user_embeddings).sum(axis=1, keepdims=True)\n",
    "        for movie_id in tqdm.tqdm(movies):\n",
    "          x_j = np.array(user_item_csr[:, movie_id].todense()).reshape((-1, 1))\n",
    "          c = 1 + self.confidence * x_j\n",
    "          left_side = (c * user_dot_user + self.lambd).sum(axis=0)\n",
    "          right_side = (c * x_j * user_embeddings).sum(axis=0)\n",
    "          movie_embeddings[movie_id] = right_side / left_side\n",
    "      mse_sum = 0\n",
    "      mse_count = 0\n",
    "      for user_id, movie_id, rating in zip(cx.row, cx.col, cx.data):\n",
    "        error = 1 - np.dot(user_embeddings[user_id], movie_embeddings[movie_id])\n",
    "        mse_sum += error**2\n",
    "        mse_count += 1\n",
    "      mse = mse_sum / mse_count\n",
    "      print(f'Iteration: {iteration + 1}, end MSE={mse}', flush=True)\n",
    "      if mse < self.eps:\n",
    "        break\n",
    "    self.movies = movies\n",
    "    self.user_embeddings = user_embeddings\n",
    "    self.movie_embeddings = movie_embeddings\n",
    "    super().fit()"
   ]
  },
  {
   "cell_type": "code",
   "execution_count": 65,
   "metadata": {},
   "outputs": [
    {
     "name": "stdout",
     "output_type": "stream",
     "text": [
      "Users: 6038\n",
      "Movies: 3533\n",
      "Ratings: 575281\n"
     ]
    },
    {
     "name": "stderr",
     "output_type": "stream",
     "text": [
      "100%|██████████| 6038/6038 [00:03<00:00, 1644.45it/s]\n"
     ]
    },
    {
     "name": "stdout",
     "output_type": "stream",
     "text": [
      "Iteration: 1, end MSE=0.06459164032772788\n"
     ]
    },
    {
     "name": "stderr",
     "output_type": "stream",
     "text": [
      "100%|██████████| 3533/3533 [00:06<00:00, 538.02it/s]\n"
     ]
    },
    {
     "name": "stdout",
     "output_type": "stream",
     "text": [
      "Iteration: 2, end MSE=0.0002011533726035453\n"
     ]
    }
   ],
   "source": [
    "als_model = ALS(rank=FACTOR_RANK, confidence=1e4, lambd=1e-2, eps=1e-3, max_iterations=EPOCHS)\n",
    "als_model.fit(user_item_csr)"
   ]
  },
  {
   "cell_type": "code",
   "execution_count": 66,
   "metadata": {},
   "outputs": [
    {
     "name": "stdout",
     "output_type": "stream",
     "text": [
      "Similar to 0    Toy Story (1995) are:\n",
      "0    Toy Story (1995)\n",
      "1245    Groundhog Day (1993)\n",
      "584    Aladdin (1992)\n",
      "3045    Toy Story 2 (1999)\n",
      "38    Clueless (1995)\n",
      "33    Babe (1995)\n",
      "3184    Wayne's World (1992)\n",
      "2252    Pleasantville (1998)\n",
      "2225    Antz (1998)\n",
      "360    Lion King, The (1994)\n",
      "Recommended movies for the user 4 are:\n",
      "1178    Star Wars: Episode V - The Empire Strikes Back...\n",
      "1353    Star Trek: The Wrath of Khan (1982)\n",
      "2460    Planet of the Apes (1968)\n",
      "1192    Star Wars: Episode VI - Return of the Jedi (1983)\n",
      "108    Braveheart (1995)\n",
      "585    Terminator 2: Judgment Day (1991)\n",
      "3630    Starman (1984)\n",
      "2502    Matrix, The (1999)\n",
      "1271    Indiana Jones and the Last Crusade (1989)\n",
      "1355    Star Trek IV: The Voyage Home (1986)\n"
     ]
    }
   ],
   "source": [
    "test_model(als_model)"
   ]
  },
  {
   "cell_type": "markdown",
   "metadata": {},
   "source": [
    "### Задание 3. Не использую готовые решения, реализовать матричное разложение BPR на implicit данных"
   ]
  },
  {
   "cell_type": "code",
   "execution_count": 67,
   "metadata": {},
   "outputs": [],
   "source": [
    "from collections import namedtuple\n",
    "\n",
    "PositiveSample = namedtuple('PositiveSample', ('user_id', 'movie_id'))\n",
    "\n",
    "class BPR(RecommenderEngine):\n",
    "  def __init__(self, rank=64, lr=1e-3, max_epochs=100, eps=1e-5, lambd=1e-5):\n",
    "    super().__init__()\n",
    "    self.rank = rank\n",
    "    self.lr = lr\n",
    "    self.max_epochs = max_epochs\n",
    "    self.eps = eps\n",
    "    self.lambd = lambd\n",
    "    \n",
    "  @staticmethod\n",
    "  def _create_positives_dataset(user_item_csr, user_ids):\n",
    "    D = []\n",
    "    for user_id in user_ids:\n",
    "      for movie_id in user_item_csr[user_id, :].indices:\n",
    "        D.append(PositiveSample(user_id, movie_id))\n",
    "    return D\n",
    "\n",
    "  def fit(self, user_item_csr, seed=RANDOM_SEED):\n",
    "    np.random.seed(seed)\n",
    "    cx = sp.coo_matrix(user_item_csr)\n",
    "    users = np.unique(cx.row)\n",
    "    movies = np.unique(cx.col)\n",
    "    print('Users:', len(users))\n",
    "    print('Movies:', len(movies))\n",
    "    print('Ratings:', user_item_csr.getnnz(), flush=True)\n",
    "    \n",
    "    init_limit = 1 / np.sqrt(self.rank)\n",
    "    user_ids_size = np.max(users) + 1\n",
    "    movie_ids_size = np.max(movies) + 1\n",
    "    init_limit = 1 / np.sqrt(self.rank)\n",
    "    user_embeddings = np.random.uniform(0, init_limit, (user_ids_size, self.rank))\n",
    "    movie_embeddings = np.random.uniform(0, init_limit, (movie_ids_size, self.rank))\n",
    "    \n",
    "    D = BPR._create_positives_dataset(user_item_csr, users)\n",
    "    print('Dataset len:', len(D), flush=True)\n",
    "    prev_logloss = None\n",
    "    for epoch in range(self.max_epochs):\n",
    "      # Shuffle indexes to simulate uniform sampling for BPR.\n",
    "      np.random.shuffle(D)\n",
    "      logloss_sum = 0\n",
    "      logloss_count = 0\n",
    "      for user_id, prefers_id in tqdm.tqdm(D):\n",
    "        while True:\n",
    "          over_id = np.random.choice(movies, 1)[0]\n",
    "          if user_item_csr[user_id, over_id] == 0:\n",
    "            break\n",
    "        x_ui = np.dot(user_embeddings[user_id], movie_embeddings[prefers_id])\n",
    "        x_uj = np.dot(user_embeddings[user_id], movie_embeddings[over_id])\n",
    "        x_uij = x_ui - x_uj\n",
    "        user_grad = movie_embeddings[prefers_id] - movie_embeddings[over_id]\n",
    "        prefers_grad = user_embeddings[user_id]\n",
    "        over_grad = -user_embeddings[user_id]\n",
    "        sigm = np.exp(-x_uij) / (1 + np.exp(-x_uij))\n",
    "        user_delt = self.lr * (-sigm * user_grad - self.lambd * user_embeddings[user_id])\n",
    "        prefers_delt = self.lr * (-sigm * prefers_grad - self.lambd * movie_embeddings[prefers_id])\n",
    "        over_delt = self.lr * (-sigm * over_grad - self.lambd * movie_embeddings[over_id])\n",
    "        user_embeddings[user_id] -= user_delt\n",
    "        movie_embeddings[prefers_id] -= prefers_delt\n",
    "        movie_embeddings[over_id] -= over_delt\n",
    "        \n",
    "        logloss_sum += np.log(sigm)\n",
    "        logloss_count += 1\n",
    "      logloss = logloss_sum / logloss_count\n",
    "      print(f'Epoch: {epoch + 1}, train logloss={logloss}', flush=True)\n",
    "      if prev_logloss is not None and np.abs(logloss - prev_logloss) / np.abs(prev_logloss) < self.eps:\n",
    "        break\n",
    "      else:\n",
    "        prev_logloss = logloss\n",
    "    self.movies = movies\n",
    "    self.user_embeddings = user_embeddings\n",
    "    self.movie_embeddings = movie_embeddings\n",
    "    super().fit()"
   ]
  },
  {
   "cell_type": "code",
   "execution_count": 68,
   "metadata": {},
   "outputs": [
    {
     "name": "stdout",
     "output_type": "stream",
     "text": [
      "Users: 6038\n",
      "Movies: 3533\n",
      "Ratings: 575281\n",
      "Dataset len: 575281\n"
     ]
    },
    {
     "name": "stderr",
     "output_type": "stream",
     "text": [
      "100%|██████████| 575281/575281 [00:58<00:00, 9798.05it/s] "
     ]
    },
    {
     "name": "stdout",
     "output_type": "stream",
     "text": [
      "Epoch: 1, train logloss=-2.231225870962534\n"
     ]
    },
    {
     "name": "stderr",
     "output_type": "stream",
     "text": [
      "\n",
      "100%|██████████| 575281/575281 [01:00<00:00, 9532.89it/s] "
     ]
    },
    {
     "name": "stdout",
     "output_type": "stream",
     "text": [
      "Epoch: 2, train logloss=-2.9711421417812134\n"
     ]
    },
    {
     "name": "stderr",
     "output_type": "stream",
     "text": [
      "\n",
      "100%|██████████| 575281/575281 [00:58<00:00, 9859.13it/s] "
     ]
    },
    {
     "name": "stdout",
     "output_type": "stream",
     "text": [
      "Epoch: 3, train logloss=-3.500623415479499\n"
     ]
    },
    {
     "name": "stderr",
     "output_type": "stream",
     "text": [
      "\n",
      "100%|██████████| 575281/575281 [00:58<00:00, 9854.34it/s] "
     ]
    },
    {
     "name": "stdout",
     "output_type": "stream",
     "text": [
      "Epoch: 4, train logloss=-4.013380501955161\n"
     ]
    },
    {
     "name": "stderr",
     "output_type": "stream",
     "text": [
      "\n",
      "100%|██████████| 575281/575281 [00:59<00:00, 9712.95it/s] "
     ]
    },
    {
     "name": "stdout",
     "output_type": "stream",
     "text": [
      "Epoch: 5, train logloss=-4.407699608855628\n"
     ]
    },
    {
     "name": "stderr",
     "output_type": "stream",
     "text": [
      "\n",
      "100%|██████████| 575281/575281 [00:59<00:00, 9694.08it/s] "
     ]
    },
    {
     "name": "stdout",
     "output_type": "stream",
     "text": [
      "Epoch: 6, train logloss=-4.751563375050813\n"
     ]
    },
    {
     "name": "stderr",
     "output_type": "stream",
     "text": [
      "\n",
      "100%|██████████| 575281/575281 [00:59<00:00, 9701.97it/s] "
     ]
    },
    {
     "name": "stdout",
     "output_type": "stream",
     "text": [
      "Epoch: 7, train logloss=-5.092849675276153\n"
     ]
    },
    {
     "name": "stderr",
     "output_type": "stream",
     "text": [
      "\n",
      "100%|██████████| 575281/575281 [00:57<00:00, 9920.78it/s] "
     ]
    },
    {
     "name": "stdout",
     "output_type": "stream",
     "text": [
      "Epoch: 8, train logloss=-5.429901185057159\n"
     ]
    },
    {
     "name": "stderr",
     "output_type": "stream",
     "text": [
      "\n",
      "100%|██████████| 575281/575281 [00:57<00:00, 9940.45it/s] "
     ]
    },
    {
     "name": "stdout",
     "output_type": "stream",
     "text": [
      "Epoch: 9, train logloss=-5.760098347991164\n"
     ]
    },
    {
     "name": "stderr",
     "output_type": "stream",
     "text": [
      "\n",
      "100%|██████████| 575281/575281 [00:57<00:00, 9975.51it/s] "
     ]
    },
    {
     "name": "stdout",
     "output_type": "stream",
     "text": [
      "Epoch: 10, train logloss=-6.080524487294817\n"
     ]
    },
    {
     "name": "stderr",
     "output_type": "stream",
     "text": [
      "\n"
     ]
    }
   ],
   "source": [
    "bpr_model = BPR(rank=FACTOR_RANK, lr=1e-1, lambd=1e-6, eps=1e-3, max_epochs=EPOCHS)\n",
    "bpr_model.fit(user_item_csr)"
   ]
  },
  {
   "cell_type": "code",
   "execution_count": 69,
   "metadata": {},
   "outputs": [
    {
     "name": "stdout",
     "output_type": "stream",
     "text": [
      "Similar to 0    Toy Story (1995) are:\n",
      "0    Toy Story (1995)\n",
      "2252    Pleasantville (1998)\n",
      "584    Aladdin (1992)\n",
      "33    Babe (1995)\n",
      "363    Mask, The (1994)\n",
      "1245    Groundhog Day (1993)\n",
      "3045    Toy Story 2 (1999)\n",
      "496    Mrs. Doubtfire (1993)\n",
      "2849    Ferris Bueller's Day Off (1986)\n",
      "2012    Little Mermaid, The (1989)\n",
      "Recommended movies for the user 4 are:\n",
      "1178    Star Wars: Episode V - The Empire Strikes Back...\n",
      "847    Godfather, The (1972)\n",
      "1284    Butch Cassidy and the Sundance Kid (1969)\n",
      "604    Fargo (1996)\n",
      "1884    French Connection, The (1971)\n",
      "1203    Godfather: Part II, The (1974)\n",
      "1575    L.A. Confidential (1997)\n",
      "585    Terminator 2: Judgment Day (1991)\n",
      "2789    American Beauty (1999)\n",
      "740    Dr. Strangelove or: How I Learned to Stop Worr...\n"
     ]
    }
   ],
   "source": [
    "test_model(bpr_model)"
   ]
  },
  {
   "cell_type": "markdown",
   "metadata": {},
   "source": [
    "### Задание 4. Не использую готовые решения, реализовать матричное разложение WARP на implicit данных"
   ]
  },
  {
   "cell_type": "code",
   "execution_count": 58,
   "metadata": {},
   "outputs": [],
   "source": [
    "class WARP(RecommenderEngine):\n",
    "  def __init__(self, rank=64, lr=1e-3, max_epochs=100, eps=1e-5, lambd=1e-5, M=1, max_negatives=10):\n",
    "    super().__init__()\n",
    "    self.rank = rank\n",
    "    self.lr = lr\n",
    "    self.max_epochs = max_epochs\n",
    "    self.eps = eps\n",
    "    self.lambd = lambd\n",
    "    self.M = M\n",
    "    self.max_negatives = max_negatives\n",
    "    \n",
    "  @staticmethod\n",
    "  def _create_positives_dataset(user_item_csr, user_ids):\n",
    "    D = []\n",
    "    for user_id in user_ids:\n",
    "      for movie_id in user_item_csr[user_id, :].indices:\n",
    "        D.append(PositiveSample(user_id, movie_id))\n",
    "    return D\n",
    "\n",
    "  def fit(self, user_item_csr, seed=RANDOM_SEED):\n",
    "    np.random.seed(seed)\n",
    "    cx = sp.coo_matrix(user_item_csr)\n",
    "    users = np.unique(cx.row)\n",
    "    movies = np.unique(cx.col)\n",
    "    print('Users:', len(users))\n",
    "    print('Movies:', len(movies))\n",
    "    print('Ratings:', user_item_csr.getnnz(), flush=True)\n",
    "    \n",
    "    init_limit = 1 / np.sqrt(self.rank)\n",
    "    user_ids_size = np.max(users) + 1\n",
    "    movie_ids_size = np.max(movies) + 1\n",
    "    init_limit = 1 / np.sqrt(self.rank)\n",
    "    user_embeddings = np.random.uniform(0, init_limit, (user_ids_size, self.rank))\n",
    "    movie_embeddings = np.random.uniform(0, init_limit, (movie_ids_size, self.rank))\n",
    "    \n",
    "    D = BPR._create_positives_dataset(user_item_csr, users)\n",
    "    print('Dataset len:', len(D), flush=True)\n",
    "    prev_loss = None\n",
    "    for epoch in range(self.max_epochs):\n",
    "      # Shuffle indexes to simulate uniform sampling for WARP.\n",
    "      np.random.shuffle(D)\n",
    "      loss_sum = 0\n",
    "      loss_count = 0\n",
    "      for user_id, prefers_id in tqdm.tqdm(D):\n",
    "        score_prefers = np.dot(user_embeddings[user_id], movie_embeddings[prefers_id])\n",
    "        for n in range(1, self.max_negatives + 1):\n",
    "          while True:\n",
    "            over_id = np.random.choice(movies, 1)[0]\n",
    "            if user_item_csr[user_id, over_id] == 0:\n",
    "              break\n",
    "          score_over = np.dot(user_embeddings[user_id], movie_embeddings[over_id])\n",
    "          if self.M + score_over - score_prefers > 0:\n",
    "            # Update since we've found a negative which our model ranks higher (including margin) than the positive.\n",
    "            rank_approx = np.floor(self.max_negatives / n)\n",
    "            rank_loss = np.log(rank_approx)\n",
    "            loss = rank_loss * (self.M + score_over - score_prefers)\n",
    "            user_grad = movie_embeddings[over_id] - movie_embeddings[prefers_id]\n",
    "            prefers_grad = -user_embeddings[user_id]\n",
    "            over_grad = user_embeddings[user_id]\n",
    "            user_delt = self.lr * (rank_loss * user_grad + self.lambd * user_embeddings[user_id])\n",
    "            prefers_delt = self.lr * (rank_loss * prefers_grad + self.lambd * movie_embeddings[prefers_id])\n",
    "            over_delt = self.lr * (rank_loss * over_grad + self.lambd * movie_embeddings[over_id])\n",
    "            user_embeddings[user_id] -= user_delt\n",
    "            movie_embeddings[prefers_id] -= prefers_delt\n",
    "            movie_embeddings[over_id] -= over_delt\n",
    "\n",
    "            loss_sum += loss\n",
    "            loss_count += 1\n",
    "            \n",
    "            break\n",
    "        else:\n",
    "          loss_sum += 0.0\n",
    "          loss_count += 1\n",
    "\n",
    "      loss = loss_sum / loss_count if loss_count else 0.0\n",
    "      print(f'Epoch: {epoch + 1}, train loss={loss}', flush=True)\n",
    "      self.movies = movies\n",
    "      self.user_embeddings = user_embeddings\n",
    "      self.movie_embeddings = movie_embeddings\n",
    "      super().fit()\n",
    "      test_model(warp_model)\n",
    "      if prev_loss is not None and np.abs(loss - prev_loss) / np.abs(prev_loss) < self.eps:\n",
    "        break\n",
    "      else:\n",
    "        prev_loss = loss"
   ]
  },
  {
   "cell_type": "code",
   "execution_count": 59,
   "metadata": {},
   "outputs": [
    {
     "name": "stdout",
     "output_type": "stream",
     "text": [
      "Users: 6038\n",
      "Movies: 3533\n",
      "Ratings: 575281\n",
      "Dataset len: 575281\n"
     ]
    },
    {
     "name": "stderr",
     "output_type": "stream",
     "text": [
      "100%|██████████| 575281/575281 [02:36<00:00, 3679.98it/s]"
     ]
    },
    {
     "name": "stdout",
     "output_type": "stream",
     "text": [
      "Epoch: 1, train loss=1.1551241952360298\n"
     ]
    },
    {
     "name": "stderr",
     "output_type": "stream",
     "text": [
      "\n",
      "  0%|          | 0/575281 [00:00<?, ?it/s]"
     ]
    },
    {
     "name": "stdout",
     "output_type": "stream",
     "text": [
      "Similar to 0    Toy Story (1995) are:\n",
      "0    Toy Story (1995)\n",
      "1195    GoodFellas (1990)\n",
      "907    Wizard of Oz, The (1939)\n",
      "1220    Terminator, The (1984)\n",
      "1203    Godfather: Part II, The (1974)\n",
      "900    Casablanca (1942)\n",
      "293    Pulp Fiction (1994)\n",
      "2847    Total Recall (1990)\n",
      "740    Dr. Strangelove or: How I Learned to Stop Worr...\n",
      "912    2001: A Space Odyssey (1968)\n",
      "Recommended movies for the user 4 are:\n",
      "2789    American Beauty (1999)\n",
      "1178    Star Wars: Episode V - The Empire Strikes Back...\n",
      "604    Fargo (1996)\n",
      "847    Godfather, The (1972)\n",
      "2502    Matrix, The (1999)\n",
      "2928    Being John Malkovich (1999)\n",
      "108    Braveheart (1995)\n",
      "1192    Star Wars: Episode VI - Return of the Jedi (1983)\n",
      "589    Silence of the Lambs, The (1991)\n",
      "523    Schindler's List (1993)\n"
     ]
    },
    {
     "name": "stderr",
     "output_type": "stream",
     "text": [
      "100%|██████████| 575281/575281 [03:08<00:00, 3054.29it/s]"
     ]
    },
    {
     "name": "stdout",
     "output_type": "stream",
     "text": [
      "Epoch: 2, train loss=1.0670129306581517\n"
     ]
    },
    {
     "name": "stderr",
     "output_type": "stream",
     "text": [
      "\n",
      "  0%|          | 0/575281 [00:00<?, ?it/s]"
     ]
    },
    {
     "name": "stdout",
     "output_type": "stream",
     "text": [
      "Similar to 0    Toy Story (1995) are:\n",
      "0    Toy Story (1995)\n",
      "2502    Matrix, The (1999)\n",
      "108    Braveheart (1995)\n",
      "476    Jurassic Park (1993)\n",
      "352    Forrest Gump (1994)\n",
      "453    Fugitive, The (1993)\n",
      "1081    E.T. the Extra-Terrestrial (1982)\n",
      "1250    Back to the Future (1985)\n",
      "1192    Star Wars: Episode VI - Return of the Jedi (1983)\n",
      "1220    Terminator, The (1984)\n",
      "Recommended movies for the user 4 are:\n",
      "1178    Star Wars: Episode V - The Empire Strikes Back...\n",
      "2789    American Beauty (1999)\n",
      "589    Silence of the Lambs, The (1991)\n",
      "585    Terminator 2: Judgment Day (1991)\n",
      "523    Schindler's List (1993)\n",
      "315    Shawshank Redemption, The (1994)\n",
      "293    Pulp Fiction (1994)\n",
      "1575    L.A. Confidential (1997)\n",
      "1192    Star Wars: Episode VI - Return of the Jedi (1983)\n",
      "2693    Sixth Sense, The (1999)\n"
     ]
    },
    {
     "name": "stderr",
     "output_type": "stream",
     "text": [
      "100%|██████████| 575281/575281 [03:15<00:00, 2948.18it/s]"
     ]
    },
    {
     "name": "stdout",
     "output_type": "stream",
     "text": [
      "Epoch: 3, train loss=0.9921389227464892\n"
     ]
    },
    {
     "name": "stderr",
     "output_type": "stream",
     "text": [
      "\n",
      "  0%|          | 0/575281 [00:00<?, ?it/s]"
     ]
    },
    {
     "name": "stdout",
     "output_type": "stream",
     "text": [
      "Similar to 0    Toy Story (1995) are:\n",
      "0    Toy Story (1995)\n",
      "1192    Star Wars: Episode VI - Return of the Jedi (1983)\n",
      "1179    Princess Bride, The (1987)\n",
      "1959    Saving Private Ryan (1998)\n",
      "1250    Back to the Future (1985)\n",
      "2647    Ghostbusters (1984)\n",
      "2502    Matrix, The (1999)\n",
      "1180    Raiders of the Lost Ark (1981)\n",
      "589    Silence of the Lambs, The (1991)\n",
      "2286    Bug's Life, A (1998)\n",
      "Recommended movies for the user 4 are:\n",
      "1178    Star Wars: Episode V - The Empire Strikes Back...\n",
      "2789    American Beauty (1999)\n",
      "589    Silence of the Lambs, The (1991)\n",
      "2693    Sixth Sense, The (1999)\n",
      "1179    Princess Bride, The (1987)\n",
      "1192    Star Wars: Episode VI - Return of the Jedi (1983)\n",
      "108    Braveheart (1995)\n",
      "847    Godfather, The (1972)\n",
      "585    Terminator 2: Judgment Day (1991)\n",
      "0    Toy Story (1995)\n"
     ]
    },
    {
     "name": "stderr",
     "output_type": "stream",
     "text": [
      "100%|██████████| 575281/575281 [03:30<00:00, 2728.22it/s]"
     ]
    },
    {
     "name": "stdout",
     "output_type": "stream",
     "text": [
      "Epoch: 4, train loss=0.8468496391129058\n"
     ]
    },
    {
     "name": "stderr",
     "output_type": "stream",
     "text": [
      "\n",
      "  0%|          | 0/575281 [00:00<?, ?it/s]"
     ]
    },
    {
     "name": "stdout",
     "output_type": "stream",
     "text": [
      "Similar to 0    Toy Story (1995) are:\n",
      "0    Toy Story (1995)\n",
      "3045    Toy Story 2 (1999)\n",
      "2286    Bug's Life, A (1998)\n",
      "1179    Princess Bride, The (1987)\n",
      "2728    Big (1988)\n",
      "33    Babe (1995)\n",
      "1899    Breakfast Club, The (1985)\n",
      "2693    Sixth Sense, The (1999)\n",
      "1250    Back to the Future (1985)\n",
      "1245    Groundhog Day (1993)\n",
      "Recommended movies for the user 4 are:\n",
      "1178    Star Wars: Episode V - The Empire Strikes Back...\n",
      "2789    American Beauty (1999)\n",
      "847    Godfather, The (1972)\n",
      "1192    Star Wars: Episode VI - Return of the Jedi (1983)\n",
      "585    Terminator 2: Judgment Day (1991)\n",
      "604    Fargo (1996)\n",
      "315    Shawshank Redemption, The (1994)\n",
      "1179    Princess Bride, The (1987)\n",
      "2502    Matrix, The (1999)\n",
      "589    Silence of the Lambs, The (1991)\n"
     ]
    },
    {
     "name": "stderr",
     "output_type": "stream",
     "text": [
      "100%|██████████| 575281/575281 [03:44<00:00, 2562.53it/s]"
     ]
    },
    {
     "name": "stdout",
     "output_type": "stream",
     "text": [
      "Epoch: 5, train loss=0.7439385024267261\n"
     ]
    },
    {
     "name": "stderr",
     "output_type": "stream",
     "text": [
      "\n",
      "  0%|          | 0/575281 [00:00<?, ?it/s]"
     ]
    },
    {
     "name": "stdout",
     "output_type": "stream",
     "text": [
      "Similar to 0    Toy Story (1995) are:\n",
      "0    Toy Story (1995)\n",
      "3045    Toy Story 2 (1999)\n",
      "2286    Bug's Life, A (1998)\n",
      "1179    Princess Bride, The (1987)\n",
      "1245    Groundhog Day (1993)\n",
      "33    Babe (1995)\n",
      "2918    Who Framed Roger Rabbit? (1988)\n",
      "1250    Back to the Future (1985)\n",
      "584    Aladdin (1992)\n",
      "2728    Big (1988)\n",
      "Recommended movies for the user 4 are:\n",
      "1178    Star Wars: Episode V - The Empire Strikes Back...\n",
      "2502    Matrix, The (1999)\n",
      "847    Godfather, The (1972)\n",
      "589    Silence of the Lambs, The (1991)\n",
      "1179    Princess Bride, The (1987)\n",
      "585    Terminator 2: Judgment Day (1991)\n",
      "1192    Star Wars: Episode VI - Return of the Jedi (1983)\n",
      "453    Fugitive, The (1993)\n",
      "2789    American Beauty (1999)\n",
      "537    Blade Runner (1982)\n"
     ]
    },
    {
     "name": "stderr",
     "output_type": "stream",
     "text": [
      "100%|██████████| 575281/575281 [03:57<00:00, 2422.17it/s]"
     ]
    },
    {
     "name": "stdout",
     "output_type": "stream",
     "text": [
      "Epoch: 6, train loss=0.6758595071790702\n"
     ]
    },
    {
     "name": "stderr",
     "output_type": "stream",
     "text": [
      "\n",
      "  0%|          | 0/575281 [00:00<?, ?it/s]"
     ]
    },
    {
     "name": "stdout",
     "output_type": "stream",
     "text": [
      "Similar to 0    Toy Story (1995) are:\n",
      "0    Toy Story (1995)\n",
      "3045    Toy Story 2 (1999)\n",
      "2286    Bug's Life, A (1998)\n",
      "1179    Princess Bride, The (1987)\n",
      "584    Aladdin (1992)\n",
      "33    Babe (1995)\n",
      "1250    Back to the Future (1985)\n",
      "2918    Who Framed Roger Rabbit? (1988)\n",
      "1245    Groundhog Day (1993)\n",
      "1058    Willy Wonka and the Chocolate Factory (1971)\n",
      "Recommended movies for the user 4 are:\n",
      "1178    Star Wars: Episode V - The Empire Strikes Back...\n",
      "604    Fargo (1996)\n",
      "2789    American Beauty (1999)\n",
      "847    Godfather, The (1972)\n",
      "589    Silence of the Lambs, The (1991)\n",
      "293    Pulp Fiction (1994)\n",
      "523    Schindler's List (1993)\n",
      "1192    Star Wars: Episode VI - Return of the Jedi (1983)\n",
      "585    Terminator 2: Judgment Day (1991)\n",
      "2693    Sixth Sense, The (1999)\n"
     ]
    },
    {
     "name": "stderr",
     "output_type": "stream",
     "text": [
      "100%|██████████| 575281/575281 [04:05<00:00, 2344.48it/s]"
     ]
    },
    {
     "name": "stdout",
     "output_type": "stream",
     "text": [
      "Epoch: 7, train loss=0.6258361717779746\n"
     ]
    },
    {
     "name": "stderr",
     "output_type": "stream",
     "text": [
      "\n",
      "  0%|          | 0/575281 [00:00<?, ?it/s]"
     ]
    },
    {
     "name": "stdout",
     "output_type": "stream",
     "text": [
      "Similar to 0    Toy Story (1995) are:\n",
      "0    Toy Story (1995)\n",
      "33    Babe (1995)\n",
      "3045    Toy Story 2 (1999)\n",
      "2286    Bug's Life, A (1998)\n",
      "584    Aladdin (1992)\n",
      "1245    Groundhog Day (1993)\n",
      "2918    Who Framed Roger Rabbit? (1988)\n",
      "1179    Princess Bride, The (1987)\n",
      "360    Lion King, The (1994)\n",
      "1178    Star Wars: Episode V - The Empire Strikes Back...\n",
      "Recommended movies for the user 4 are:\n",
      "1178    Star Wars: Episode V - The Empire Strikes Back...\n",
      "847    Godfather, The (1972)\n",
      "585    Terminator 2: Judgment Day (1991)\n",
      "2502    Matrix, The (1999)\n",
      "108    Braveheart (1995)\n",
      "2789    American Beauty (1999)\n",
      "1182    Aliens (1986)\n",
      "523    Schindler's List (1993)\n",
      "1192    Star Wars: Episode VI - Return of the Jedi (1983)\n",
      "453    Fugitive, The (1993)\n"
     ]
    },
    {
     "name": "stderr",
     "output_type": "stream",
     "text": [
      "100%|██████████| 575281/575281 [04:12<00:00, 2279.51it/s]"
     ]
    },
    {
     "name": "stdout",
     "output_type": "stream",
     "text": [
      "Epoch: 8, train loss=0.5816527068620632\n"
     ]
    },
    {
     "name": "stderr",
     "output_type": "stream",
     "text": [
      "\n",
      "  0%|          | 0/575281 [00:00<?, ?it/s]"
     ]
    },
    {
     "name": "stdout",
     "output_type": "stream",
     "text": [
      "Similar to 0    Toy Story (1995) are:\n",
      "0    Toy Story (1995)\n",
      "3045    Toy Story 2 (1999)\n",
      "33    Babe (1995)\n",
      "2286    Bug's Life, A (1998)\n",
      "584    Aladdin (1992)\n",
      "360    Lion King, The (1994)\n",
      "1245    Groundhog Day (1993)\n",
      "1179    Princess Bride, The (1987)\n",
      "2252    Pleasantville (1998)\n",
      "2918    Who Framed Roger Rabbit? (1988)\n",
      "Recommended movies for the user 4 are:\n",
      "585    Terminator 2: Judgment Day (1991)\n",
      "1178    Star Wars: Episode V - The Empire Strikes Back...\n",
      "1192    Star Wars: Episode VI - Return of the Jedi (1983)\n",
      "847    Godfather, The (1972)\n",
      "589    Silence of the Lambs, The (1991)\n",
      "2502    Matrix, The (1999)\n",
      "453    Fugitive, The (1993)\n",
      "537    Blade Runner (1982)\n",
      "108    Braveheart (1995)\n",
      "2789    American Beauty (1999)\n"
     ]
    },
    {
     "name": "stderr",
     "output_type": "stream",
     "text": [
      "100%|██████████| 575281/575281 [04:21<00:00, 2196.13it/s]"
     ]
    },
    {
     "name": "stdout",
     "output_type": "stream",
     "text": [
      "Epoch: 9, train loss=0.5483960923453649\n"
     ]
    },
    {
     "name": "stderr",
     "output_type": "stream",
     "text": [
      "\n",
      "  0%|          | 0/575281 [00:00<?, ?it/s]"
     ]
    },
    {
     "name": "stdout",
     "output_type": "stream",
     "text": [
      "Similar to 0    Toy Story (1995) are:\n",
      "0    Toy Story (1995)\n",
      "33    Babe (1995)\n",
      "3045    Toy Story 2 (1999)\n",
      "2286    Bug's Life, A (1998)\n",
      "584    Aladdin (1992)\n",
      "1245    Groundhog Day (1993)\n",
      "2252    Pleasantville (1998)\n",
      "352    Forrest Gump (1994)\n",
      "1180    Raiders of the Lost Ark (1981)\n",
      "1250    Back to the Future (1985)\n",
      "Recommended movies for the user 4 are:\n",
      "1178    Star Wars: Episode V - The Empire Strikes Back...\n",
      "847    Godfather, The (1972)\n",
      "585    Terminator 2: Judgment Day (1991)\n",
      "2502    Matrix, The (1999)\n",
      "1192    Star Wars: Episode VI - Return of the Jedi (1983)\n",
      "1182    Aliens (1986)\n",
      "589    Silence of the Lambs, The (1991)\n",
      "1203    Godfather: Part II, The (1974)\n",
      "1568    Hunt for Red October, The (1990)\n",
      "453    Fugitive, The (1993)\n"
     ]
    },
    {
     "name": "stderr",
     "output_type": "stream",
     "text": [
      "100%|██████████| 575281/575281 [04:29<00:00, 2131.15it/s]"
     ]
    },
    {
     "name": "stdout",
     "output_type": "stream",
     "text": [
      "Epoch: 10, train loss=0.5154498543197303\n"
     ]
    },
    {
     "name": "stderr",
     "output_type": "stream",
     "text": [
      "\n"
     ]
    },
    {
     "name": "stdout",
     "output_type": "stream",
     "text": [
      "Similar to 0    Toy Story (1995) are:\n",
      "0    Toy Story (1995)\n",
      "3045    Toy Story 2 (1999)\n",
      "33    Babe (1995)\n",
      "2286    Bug's Life, A (1998)\n",
      "584    Aladdin (1992)\n",
      "1245    Groundhog Day (1993)\n",
      "2252    Pleasantville (1998)\n",
      "1250    Back to the Future (1985)\n",
      "1180    Raiders of the Lost Ark (1981)\n",
      "1081    E.T. the Extra-Terrestrial (1982)\n",
      "Recommended movies for the user 4 are:\n",
      "1178    Star Wars: Episode V - The Empire Strikes Back...\n",
      "847    Godfather, The (1972)\n",
      "1192    Star Wars: Episode VI - Return of the Jedi (1983)\n",
      "2502    Matrix, The (1999)\n",
      "585    Terminator 2: Judgment Day (1991)\n",
      "1182    Aliens (1986)\n",
      "108    Braveheart (1995)\n",
      "589    Silence of the Lambs, The (1991)\n",
      "1568    Hunt for Red October, The (1990)\n",
      "453    Fugitive, The (1993)\n"
     ]
    }
   ],
   "source": [
    "warp_model = WARP(rank=FACTOR_RANK, lr=1e-2, lambd=1e-6, eps=1e-3, max_epochs=EPOCHS)\n",
    "warp_model.fit(user_item_csr)"
   ]
  },
  {
   "cell_type": "code",
   "execution_count": 60,
   "metadata": {},
   "outputs": [
    {
     "name": "stdout",
     "output_type": "stream",
     "text": [
      "Similar to 0    Toy Story (1995) are:\n",
      "0    Toy Story (1995)\n",
      "3045    Toy Story 2 (1999)\n",
      "33    Babe (1995)\n",
      "2286    Bug's Life, A (1998)\n",
      "584    Aladdin (1992)\n",
      "1245    Groundhog Day (1993)\n",
      "2252    Pleasantville (1998)\n",
      "1250    Back to the Future (1985)\n",
      "1180    Raiders of the Lost Ark (1981)\n",
      "1081    E.T. the Extra-Terrestrial (1982)\n",
      "Recommended movies for the user 4 are:\n",
      "1178    Star Wars: Episode V - The Empire Strikes Back...\n",
      "847    Godfather, The (1972)\n",
      "1192    Star Wars: Episode VI - Return of the Jedi (1983)\n",
      "2502    Matrix, The (1999)\n",
      "585    Terminator 2: Judgment Day (1991)\n",
      "1182    Aliens (1986)\n",
      "108    Braveheart (1995)\n",
      "589    Silence of the Lambs, The (1991)\n",
      "1568    Hunt for Red October, The (1990)\n",
      "453    Fugitive, The (1993)\n"
     ]
    }
   ],
   "source": [
    "test_model(warp_model)"
   ]
  },
  {
   "cell_type": "code",
   "execution_count": null,
   "metadata": {},
   "outputs": [],
   "source": []
  }
 ],
 "metadata": {
  "kernelspec": {
   "display_name": "Python (recsys)",
   "language": "python",
   "name": "recsys"
  },
  "language_info": {
   "codemirror_mode": {
    "name": "ipython",
    "version": 3
   },
   "file_extension": ".py",
   "mimetype": "text/x-python",
   "name": "python",
   "nbconvert_exporter": "python",
   "pygments_lexer": "ipython3",
   "version": "3.8.5"
  }
 },
 "nbformat": 4,
 "nbformat_minor": 2
}
